{
 "nbformat": 4,
 "nbformat_minor": 0,
 "metadata": {
  "colab": {
   "provenance": []
  },
  "kernelspec": {
   "name": "python3",
   "language": "python",
   "display_name": "Python 3 (ipykernel)"
  },
  "language_info": {
   "name": "python"
  }
 },
 "cells": [
  {
   "cell_type": "code",
   "source": [
    "import os\n",
    "\n",
    "import cv2\n",
    "\n",
    "\n",
    "def remove_black_padding(image):\n",
    "    \"\"\"\n",
    "    이미지의 검정색 여백을 제거합니다.\n",
    "    :param image: 검정색 여백을 제거할 이미지\n",
    "    :return: 검정색 여백이 제거된 이미지\n",
    "    \"\"\"\n",
    "    # 이미지를 그레이 스케일로 변환\n",
    "    gray = cv2.cvtColor(image, cv2.COLOR_BGR2GRAY)\n",
    "\n",
    "    # binary thereshold로 검정색 여백 추출 (1보다 작은 값은 0으로, 1 이상의 값은 255로 설정)\n",
    "    _, thresh = cv2.threshold(gray, 1, 255, cv2.THRESH_BINARY)\n",
    "    image = cv2.cvtColor(image, cv2.COLOR_BGR2BGRA)\n",
    "    # image와 thresh를 곱하여 검정색 여백을 제거합니다.\n",
    "    image = cv2.bitwise_and(image, image, mask=thresh)\n",
    "    return image\n",
    "\n",
    "\n",
    "# 아래 함수는 위의 함수와 동일한 기능을 수행합니다. 그러나 많이 느립니다.\n",
    "def remove_black_with_iterate(image):\n",
    "    image = cv2.cvtColor(image, cv2.COLOR_BGR2BGRA)\n",
    "    width, height = image.shape[:2]\n",
    "\n",
    "    for i in range(width):\n",
    "        for j in range(height):\n",
    "            r, g, b, a = image[i][j]\n",
    "            if r == 0 and g == 0 and b == 0:\n",
    "                image[i][j][3] = 0\n",
    "\n",
    "    return image\n",
    "\n",
    "\n",
    "def stitch_image(src_dir, dst_dir=None):\n",
    "    if dst_dir is None:\n",
    "        dst_dir = src_dir + \"_stitched\"\n",
    "    base_path = os.getcwd()\n",
    "    data_path = os.path.join(base_path, \"input\")\n",
    "    image_path = os.path.join(data_path, src_dir)\n",
    "    print(f\"image directory : {image_path}\")\n",
    "\n",
    "    file_names = os.listdir(image_path)\n",
    "\n",
    "    print(f\"detected [{len(file_names)}] files : {file_names}\")\n",
    "\n",
    "    images = []\n",
    "\n",
    "    for name in file_names:\n",
    "        img_path = os.path.join(image_path, name)\n",
    "        print(f\"loading : {img_path}\")\n",
    "        img = cv2.imread(img_path)\n",
    "        images.append(img)\n",
    "\n",
    "    stitcher = cv2.Stitcher.create()\n",
    "    status, stitched_image = stitcher.stitch(images)\n",
    "\n",
    "    if status == cv2.Stitcher_OK:\n",
    "        dst_path = os.path.join(base_path, \"output\", f\"{dst_dir}\")\n",
    "        print(f'Stitched image will be saved : {dst_path}')\n",
    "        cv2.imwrite(f'{dst_path}.jpg', stitched_image)\n",
    "        return stitched_image\n",
    "    else:\n",
    "        print(\"스티칭 실패\")\n"
   ],
   "metadata": {
    "id": "sTf2qLfPu0al",
    "ExecuteTime": {
     "end_time": "2024-05-22T12:18:00.560319Z",
     "start_time": "2024-05-22T12:18:00.550319Z"
    }
   },
   "execution_count": 17,
   "outputs": []
  },
  {
   "cell_type": "code",
   "source": [
    "print(os.getcwd())"
   ],
   "metadata": {
    "colab": {
     "base_uri": "https://localhost:8080/"
    },
    "id": "0uiok_e9ZNKM",
    "outputId": "5e1e499e-a633-4945-8843-5caa526a5d53",
    "ExecuteTime": {
     "end_time": "2024-05-22T12:18:00.575319Z",
     "start_time": "2024-05-22T12:18:00.561319Z"
    }
   },
   "execution_count": 18,
   "outputs": [
    {
     "name": "stdout",
     "output_type": "stream",
     "text": [
      "C:\\Users\\user\\PycharmProjects\\Stitching\n"
     ]
    }
   ]
  },
  {
   "cell_type": "code",
   "execution_count": null,
   "metadata": {
    "id": "7XEKMY7DmHXa",
    "is_executing": true,
    "ExecuteTime": {
     "start_time": "2024-05-22T12:18:00.576319Z"
    }
   },
   "outputs": [
    {
     "name": "stdout",
     "output_type": "stream",
     "text": [
      "image directory : C:\\Users\\user\\PycharmProjects\\Stitching\\input\\p_r_05\n",
      "detected [2] files : ['KakaoTalk_20240522_211323694.jpg', 'KakaoTalk_20240522_211323694_01.jpg']\n",
      "loading : C:\\Users\\user\\PycharmProjects\\Stitching\\input\\p_r_05\\KakaoTalk_20240522_211323694.jpg\n",
      "loading : C:\\Users\\user\\PycharmProjects\\Stitching\\input\\p_r_05\\KakaoTalk_20240522_211323694_01.jpg\n"
     ]
    }
   ],
   "source": [
    "stitched = stitch_image(src_dir=\"p_r_05\")"
   ]
  },
  {
   "cell_type": "code",
   "source": [
    "stitched = stitch_image(src_dir=\"p_r_10\")"
   ],
   "metadata": {
    "id": "tkDZKp2Xswdb",
    "is_executing": true
   },
   "execution_count": null,
   "outputs": []
  },
  {
   "cell_type": "code",
   "source": [
    "stitched = stitch_image(src_dir=\"p_r_15\")"
   ],
   "metadata": {
    "id": "n_kno91Raisr",
    "is_executing": true
   },
   "execution_count": null,
   "outputs": []
  },
  {
   "cell_type": "code",
   "source": [
    "stitched = stitch_image(src_dir=\"p_r_20\")"
   ],
   "metadata": {
    "colab": {
     "base_uri": "https://localhost:8080/"
    },
    "id": "BYcz-ecaaiT8",
    "outputId": "d701618d-fd9b-4f55-c94b-ddb846231b42",
    "is_executing": true
   },
   "execution_count": null,
   "outputs": []
  }
 ]
}
